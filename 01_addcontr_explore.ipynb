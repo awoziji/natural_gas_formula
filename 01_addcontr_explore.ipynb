{
 "cells": [
  {
   "cell_type": "code",
   "execution_count": 1,
   "metadata": {},
   "outputs": [],
   "source": [
    "import pandas as pd\n",
    "import matplotlib.pyplot as plt\n",
    "\n",
    "from datetime import date\n",
    "from tqdm import tqdm_notebook"
   ]
  },
  {
   "cell_type": "code",
   "execution_count": 3,
   "metadata": {},
   "outputs": [
    {
     "name": "stdout",
     "output_type": "stream",
     "text": [
      "(24524, 19)\n",
      "Index(['contract_id', 'date_signed', 'procuring_entity', 'procuring_entity_id',\n",
      "       'procuring_entity_type', 'region', 'contract_value', 'quantity',\n",
      "       'units', 'item_desc', 'cpv', 'contract_start', 'contract_end',\n",
      "       'addcontr_date', 'rationale_type', 'rationale', 'tender_id',\n",
      "       'procurement_type', 'tenderURL'],\n",
      "      dtype='object')\n"
     ]
    },
    {
     "data": {
      "text/html": [
       "<div>\n",
       "<style scoped>\n",
       "    .dataframe tbody tr th:only-of-type {\n",
       "        vertical-align: middle;\n",
       "    }\n",
       "\n",
       "    .dataframe tbody tr th {\n",
       "        vertical-align: top;\n",
       "    }\n",
       "\n",
       "    .dataframe thead th {\n",
       "        text-align: right;\n",
       "    }\n",
       "</style>\n",
       "<table border=\"1\" class=\"dataframe\">\n",
       "  <thead>\n",
       "    <tr style=\"text-align: right;\">\n",
       "      <th></th>\n",
       "      <th>contract_id</th>\n",
       "      <th>date_signed</th>\n",
       "      <th>procuring_entity</th>\n",
       "      <th>procuring_entity_id</th>\n",
       "      <th>procuring_entity_type</th>\n",
       "      <th>region</th>\n",
       "      <th>contract_value</th>\n",
       "      <th>quantity</th>\n",
       "      <th>units</th>\n",
       "      <th>item_desc</th>\n",
       "      <th>cpv</th>\n",
       "      <th>contract_start</th>\n",
       "      <th>contract_end</th>\n",
       "      <th>addcontr_date</th>\n",
       "      <th>rationale_type</th>\n",
       "      <th>rationale</th>\n",
       "      <th>tender_id</th>\n",
       "      <th>procurement_type</th>\n",
       "      <th>tenderURL</th>\n",
       "    </tr>\n",
       "  </thead>\n",
       "  <tbody>\n",
       "    <tr>\n",
       "      <th>0</th>\n",
       "      <td>244af7a6ee364ed3a8b3cff3cedabc3f</td>\n",
       "      <td>2017-08-01</td>\n",
       "      <td>Державний вищий навчальний заклад \"Університет...</td>\n",
       "      <td>34716922</td>\n",
       "      <td>general</td>\n",
       "      <td>Київська область</td>\n",
       "      <td>1093519.824</td>\n",
       "      <td>162450</td>\n",
       "      <td>MTQ</td>\n",
       "      <td>Природний газ для потреб Львівського навчально...</td>\n",
       "      <td>09120000-6</td>\n",
       "      <td>2017-08-01</td>\n",
       "      <td>2017-12-31</td>\n",
       "      <td>2017-10-11</td>\n",
       "      <td>volumeCuts, itemPriceVariation</td>\n",
       "      <td>Згідно довідки Торгово-промислової палати Укра...</td>\n",
       "      <td>UA-2017-05-15-002292-b</td>\n",
       "      <td>aboveThresholdUA</td>\n",
       "      <td>https://prozorro.gov.ua/tender/UA-2017-05-15-0...</td>\n",
       "    </tr>\n",
       "    <tr>\n",
       "      <th>1</th>\n",
       "      <td>28cf7ff64b564839b13c8c91c98676dc</td>\n",
       "      <td>2017-08-02</td>\n",
       "      <td>Квартирно - експлуатаційний відділ м. Херсона</td>\n",
       "      <td>8294952</td>\n",
       "      <td>general</td>\n",
       "      <td>Херсонська область</td>\n",
       "      <td>1124468.370</td>\n",
       "      <td>202501</td>\n",
       "      <td>MTQ</td>\n",
       "      <td>Природний газ</td>\n",
       "      <td>09120000-6</td>\n",
       "      <td>2017-08-02</td>\n",
       "      <td>2017-12-31</td>\n",
       "      <td>2017-08-29</td>\n",
       "      <td>volumeCuts</td>\n",
       "      <td>Зменшення обсягів закупівлі з метою приведення...</td>\n",
       "      <td>UA-2017-06-21-000460-b</td>\n",
       "      <td>aboveThresholdUA</td>\n",
       "      <td>https://prozorro.gov.ua/tender/UA-2017-06-21-0...</td>\n",
       "    </tr>\n",
       "    <tr>\n",
       "      <th>2</th>\n",
       "      <td>28cf7ff64b564839b13c8c91c98676dc</td>\n",
       "      <td>2017-08-02</td>\n",
       "      <td>Квартирно - експлуатаційний відділ м. Херсона</td>\n",
       "      <td>8294952</td>\n",
       "      <td>general</td>\n",
       "      <td>Херсонська область</td>\n",
       "      <td>1124468.370</td>\n",
       "      <td>202501</td>\n",
       "      <td>MTQ</td>\n",
       "      <td>Природний газ</td>\n",
       "      <td>09120000-6</td>\n",
       "      <td>2017-08-02</td>\n",
       "      <td>2017-12-31</td>\n",
       "      <td>2017-09-20</td>\n",
       "      <td>itemPriceVariation</td>\n",
       "      <td>Підвищення вартості природного газу на ринку У...</td>\n",
       "      <td>UA-2017-06-21-000460-b</td>\n",
       "      <td>aboveThresholdUA</td>\n",
       "      <td>https://prozorro.gov.ua/tender/UA-2017-06-21-0...</td>\n",
       "    </tr>\n",
       "  </tbody>\n",
       "</table>\n",
       "</div>"
      ],
      "text/plain": [
       "                        contract_id date_signed  \\\n",
       "0  244af7a6ee364ed3a8b3cff3cedabc3f  2017-08-01   \n",
       "1  28cf7ff64b564839b13c8c91c98676dc  2017-08-02   \n",
       "2  28cf7ff64b564839b13c8c91c98676dc  2017-08-02   \n",
       "\n",
       "                                    procuring_entity  procuring_entity_id  \\\n",
       "0  Державний вищий навчальний заклад \"Університет...             34716922   \n",
       "1      Квартирно - експлуатаційний відділ м. Херсона              8294952   \n",
       "2      Квартирно - експлуатаційний відділ м. Херсона              8294952   \n",
       "\n",
       "  procuring_entity_type              region  contract_value  quantity units  \\\n",
       "0               general    Київська область     1093519.824    162450   MTQ   \n",
       "1               general  Херсонська область     1124468.370    202501   MTQ   \n",
       "2               general  Херсонська область     1124468.370    202501   MTQ   \n",
       "\n",
       "                                           item_desc         cpv  \\\n",
       "0  Природний газ для потреб Львівського навчально...  09120000-6   \n",
       "1                                      Природний газ  09120000-6   \n",
       "2                                      Природний газ  09120000-6   \n",
       "\n",
       "  contract_start contract_end addcontr_date                  rationale_type  \\\n",
       "0     2017-08-01   2017-12-31    2017-10-11  volumeCuts, itemPriceVariation   \n",
       "1     2017-08-02   2017-12-31    2017-08-29                      volumeCuts   \n",
       "2     2017-08-02   2017-12-31    2017-09-20              itemPriceVariation   \n",
       "\n",
       "                                           rationale               tender_id  \\\n",
       "0  Згідно довідки Торгово-промислової палати Укра...  UA-2017-05-15-002292-b   \n",
       "1  Зменшення обсягів закупівлі з метою приведення...  UA-2017-06-21-000460-b   \n",
       "2  Підвищення вартості природного газу на ринку У...  UA-2017-06-21-000460-b   \n",
       "\n",
       "   procurement_type                                          tenderURL  \n",
       "0  aboveThresholdUA  https://prozorro.gov.ua/tender/UA-2017-05-15-0...  \n",
       "1  aboveThresholdUA  https://prozorro.gov.ua/tender/UA-2017-06-21-0...  \n",
       "2  aboveThresholdUA  https://prozorro.gov.ua/tender/UA-2017-06-21-0...  "
      ]
     },
     "execution_count": 3,
     "metadata": {},
     "output_type": "execute_result"
    }
   ],
   "source": [
    "'''\n",
    "Import data, previously downloaded by the script 00_addcontr_get_data\n",
    "'''\n",
    "\n",
    "data_addcontr = pd.read_excel('02_data/00_data_addcontr_all_v5.xlsx','Sheet1')\n",
    "print(data_addcontr.shape)\n",
    "print(data_addcontr.columns)\n",
    "\n",
    "data_addcontr.loc[:,'date_signed'] = pd.to_datetime(data_addcontr['date_signed']).map(lambda x: x.date())\n",
    "data_addcontr.loc[:,'addcontr_date'] = data_addcontr['addcontr_date'].map(lambda x: pd.to_datetime(x).date() if x != 'unknown' else x)\n",
    "data_addcontr['contract_start'] = data_addcontr.loc[:,'contract_start'].map(lambda x: pd.to_datetime(x).date() if x != 'not specified' else x)\n",
    "data_addcontr['contract_end'] = data_addcontr.loc[:,'contract_end'].map(lambda x: pd.to_datetime(x).date() if x != 'not specified' else x)\n",
    "\n",
    "data_addcontr.head(3)"
   ]
  },
  {
   "cell_type": "code",
   "execution_count": 7,
   "metadata": {},
   "outputs": [
    {
     "name": "stdout",
     "output_type": "stream",
     "text": [
      "3647\n"
     ]
    },
    {
     "data": {
      "text/html": [
       "<div>\n",
       "<style scoped>\n",
       "    .dataframe tbody tr th:only-of-type {\n",
       "        vertical-align: middle;\n",
       "    }\n",
       "\n",
       "    .dataframe tbody tr th {\n",
       "        vertical-align: top;\n",
       "    }\n",
       "\n",
       "    .dataframe thead th {\n",
       "        text-align: right;\n",
       "    }\n",
       "</style>\n",
       "<table border=\"1\" class=\"dataframe\">\n",
       "  <thead>\n",
       "    <tr style=\"text-align: right;\">\n",
       "      <th></th>\n",
       "      <th>contract_start</th>\n",
       "      <th>contract_end</th>\n",
       "    </tr>\n",
       "  </thead>\n",
       "  <tbody>\n",
       "    <tr>\n",
       "      <th>19572</th>\n",
       "      <td>2017-08-01</td>\n",
       "      <td>2017-12-31</td>\n",
       "    </tr>\n",
       "    <tr>\n",
       "      <th>378</th>\n",
       "      <td>2017-08-01</td>\n",
       "      <td>2017-12-31</td>\n",
       "    </tr>\n",
       "    <tr>\n",
       "      <th>123</th>\n",
       "      <td>2017-08-01</td>\n",
       "      <td>2018-01-31</td>\n",
       "    </tr>\n",
       "    <tr>\n",
       "      <th>107</th>\n",
       "      <td>2017-08-01</td>\n",
       "      <td>2017-12-31</td>\n",
       "    </tr>\n",
       "    <tr>\n",
       "      <th>0</th>\n",
       "      <td>2017-08-01</td>\n",
       "      <td>2017-12-31</td>\n",
       "    </tr>\n",
       "  </tbody>\n",
       "</table>\n",
       "</div>"
      ],
      "text/plain": [
       "      contract_start contract_end\n",
       "19572     2017-08-01   2017-12-31\n",
       "378       2017-08-01   2017-12-31\n",
       "123       2017-08-01   2018-01-31\n",
       "107       2017-08-01   2017-12-31\n",
       "0         2017-08-01   2017-12-31"
      ]
     },
     "execution_count": 7,
     "metadata": {},
     "output_type": "execute_result"
    }
   ],
   "source": [
    "'''\n",
    "Create table with duration of each contract,\n",
    "starting from 2017-08-01 and ending no later than 2018-12-31\n",
    "'''\n",
    "contract_dates = data_addcontr.drop_duplicates(subset = 'contract_id')[['contract_start','contract_end']]\n",
    "contract_dates = contract_dates.loc[(contract_dates['contract_start']!='not specified')&(contract_dates['contract_end']!='not specified')].sort_values(by = ['contract_start'])\n",
    "contract_dates = contract_dates.loc[(contract_dates['contract_start']>=date(2017,8,1))&(contract_dates['contract_end']<=date(2018,12,31))]\n",
    "print(len(contract_dates))\n",
    "contract_dates.head()"
   ]
  },
  {
   "cell_type": "code",
   "execution_count": 8,
   "metadata": {},
   "outputs": [
    {
     "data": {
      "application/vnd.jupyter.widget-view+json": {
       "model_id": "449821199bba4e31ada0e5bf80c557e1",
       "version_major": 2,
       "version_minor": 0
      },
      "text/plain": [
       "HBox(children=(IntProgress(value=0, max=3647), HTML(value='')))"
      ]
     },
     "metadata": {},
     "output_type": "display_data"
    },
    {
     "name": "stdout",
     "output_type": "stream",
     "text": [
      "\n"
     ]
    },
    {
     "data": {
      "image/png": "[encoded data removed]",
      "text/plain": [
       "<Figure size 432x288 with 1 Axes>"
      ]
     },
     "metadata": {},
     "output_type": "display_data"
    }
   ],
   "source": [
    "'''\n",
    "Vizualize contract durations:\n",
    "each line is one contract\n",
    "'''\n",
    "\n",
    "for i in tqdm_notebook(range(len(contract_dates))):\n",
    "    x, y = [contract_dates.iloc[i,:][0], contract_dates.iloc[i,:][1]], [i, i]\n",
    "    plt.plot(x, y, color = '#3fd4ad', linewidth = 0.1)\n",
    "    \n",
    "mode = contract_dates['contract_end'].mode()[0]\n",
    "x_vert1, y_vert1 = [date(2017,12,31), date(2017,12,31)], [0,len(contract_dates)]\n",
    "\n",
    "plt.plot(x_vert1, y_vert1, color  = '#666666')\n",
    "\n",
    "ticks = [date(2017,month,15) for month in range(8,13)]\n",
    "ticks = ticks + [date(2018,month,15) for month in range(1,13)]\n",
    "labels = ['%s-%s' % (tick.year, ('0' + str(tick.month))[-2:]) for tick in ticks]\n",
    "\n",
    "plt.xticks(ticks, labels, rotation='vertical')\n",
    "plt.ylabel('Кількість укладених угод')\n",
    "#plt.savefig('01_visuals/contracts_duration_all_2018-11-13.png', dpi=300, bbox_inches = 'tight')\n",
    "plt.show()"
   ]
  },
  {
   "cell_type": "code",
   "execution_count": 9,
   "metadata": {},
   "outputs": [
    {
     "data": {
      "image/png": "[encoded data removed]",
      "text/plain": [
       "<Figure size 432x288 with 1 Axes>"
      ]
     },
     "metadata": {},
     "output_type": "display_data"
    },
    {
     "name": "stdout",
     "output_type": "stream",
     "text": [
      "269\n"
     ]
    }
   ],
   "source": [
    "'''\n",
    "Distribution of contract values\n",
    "Contracts for more than 10 mln UAH are filtered out as outliers\n",
    "'''\n",
    "plt.hist(data_addcontr.loc[data_addcontr['contract_value']<10**7]['contract_value'], bins = 20)\n",
    "ticks = [(i*10**6)/2 for i in range(20)]\n",
    "plt.xticks(ticks, rotation='vertical')\n",
    "#plt.yscale('log')\n",
    "plt.show()\n",
    "data_addcontr['contract_value']\n",
    "print(len(data_addcontr.loc[data_addcontr['contract_value']>10**7]))"
   ]
  },
  {
   "cell_type": "code",
   "execution_count": 11,
   "metadata": {},
   "outputs": [],
   "source": [
    "'''\n",
    "Function for creating description for different contact value thresholds\n",
    "'''\n",
    "def printouts(threshold, data_addcontr):\n",
    "    contracts_all = data_addcontr['contract_id']\n",
    "    contracts = data_addcontr.loc[data_addcontr['contract_value']>threshold]\n",
    "    contracts_unique = contracts.drop_duplicates(subset='contract_id')\n",
    "    contracts_sum = contracts_unique['contract_value'].sum()\n",
    "    contracts_sum_all = data_addcontr.drop_duplicates(subset='contract_id')['contract_value'].sum()\n",
    "    \n",
    "    print(\"При порозі %s грн доведеться опрацювати %i додугод до %i договорів\" %(threshold,len(contracts),len(contracts_unique)))\n",
    "    print(\"Це %.2f%% від усіх додугод та %.2f%% від усіх договорів\" %(len(contracts)/len(contracts_all)*100,len(contracts_unique)/len(contracts_all.unique())*100))\n",
    "    print(\"Сума опрацьованих угод за таких умов %.2f млн грн, що становить %.2f%% від загальної суми\" %(contracts_sum/10**6,contracts_sum/contracts_sum_all*100))"
   ]
  },
  {
   "cell_type": "code",
   "execution_count": 12,
   "metadata": {},
   "outputs": [
    {
     "name": "stdout",
     "output_type": "stream",
     "text": [
      "При порозі 200000 грн доведеться опрацювати 20441 додугод до 3291 договорів\n",
      "Це 83.35% від усіх додугод та 74.90% від усіх договорів\n",
      "Сума опрацьованих угод за таких умов 5619.07 млн грн, що становить 97.91% від загальної суми\n"
     ]
    }
   ],
   "source": [
    "#threshold 200 000 UAH (official procurement threshold in most cases)\n",
    "printouts(2*10**5, data_addcontr)"
   ]
  },
  {
   "cell_type": "code",
   "execution_count": 13,
   "metadata": {},
   "outputs": [
    {
     "name": "stdout",
     "output_type": "stream",
     "text": [
      "При порозі 500000 грн доведеться опрацювати 14091 додугод до 2176 договорів\n",
      "Це 57.46% від усіх додугод та 49.52% від усіх договорів\n",
      "Сума опрацьованих угод за таких умов 5236.25 млн грн, що становить 91.24% від загальної суми\n"
     ]
    }
   ],
   "source": [
    "#threshold 500 000 UAH\n",
    "printouts(5*10**5, data_addcontr)"
   ]
  },
  {
   "cell_type": "code",
   "execution_count": 14,
   "metadata": {},
   "outputs": [
    {
     "name": "stdout",
     "output_type": "stream",
     "text": [
      "При порозі 1000000 грн доведеться опрацювати 8250 додугод до 1207 договорів\n",
      "Це 33.64% від усіх додугод та 27.47% від усіх договорів\n",
      "Сума опрацьованих угод за таких умов 4551.86 млн грн, що становить 79.31% від загальної суми\n"
     ]
    }
   ],
   "source": [
    "#threshold 1 000 000 UAH, which is chosen as optimal threshold for further analysis\n",
    "printouts(10**6, data_addcontr)"
   ]
  },
  {
   "cell_type": "code",
   "execution_count": 15,
   "metadata": {},
   "outputs": [
    {
     "name": "stdout",
     "output_type": "stream",
     "text": [
      "При порозі 2000000 грн доведеться опрацювати 3661 додугод до 534 договорів\n",
      "Це 14.93% від усіх додугод та 12.15% від усіх договорів\n",
      "Сума опрацьованих угод за таких умов 3616.13 млн грн, що становить 63.01% від загальної суми\n"
     ]
    }
   ],
   "source": [
    "#threshold 2 000 000 UAH\n",
    "printouts(2*10**6, data_addcontr)"
   ]
  },
  {
   "cell_type": "code",
   "execution_count": 16,
   "metadata": {},
   "outputs": [
    {
     "name": "stdout",
     "output_type": "stream",
     "text": [
      "(8250, 19)\n"
     ]
    }
   ],
   "source": [
    "'''\n",
    "Export data to contract with value exceeding 1 mln UAH\n",
    "'''\n",
    "data_addcontr_filtered = data_addcontr.loc[data_addcontr['contract_value']>10**6]\n",
    "print(data_addcontr_filtered.shape)\n",
    "data_addcontr_filtered.to_excel('02_data/addcontr_gas_1mln_v2.xlsx', index = False)"
   ]
  }
 ],
 "metadata": {
  "kernelspec": {
   "display_name": "Python 3",
   "language": "python",
   "name": "python3"
  },
  "language_info": {
   "codemirror_mode": {
    "name": "ipython",
    "version": 3
   },
   "file_extension": ".py",
   "mimetype": "text/x-python",
   "name": "python",
   "nbconvert_exporter": "python",
   "pygments_lexer": "ipython3",
   "version": "3.6.5"
  }
 },
 "nbformat": 4,
 "nbformat_minor": 2
}
